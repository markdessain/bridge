{
 "cells": [
  {
   "cell_type": "code",
   "execution_count": null,
   "metadata": {
    "collapsed": false
   },
   "outputs": [],
   "source": [
    "%matplotlib inline\n",
    "\n",
    "import re\n",
    "\n",
    "import html.parser\n",
    "import pandas as pd\n",
    "import requests\n",
    "import seaborn as sns\n",
    "from bs4 import BeautifulSoup"
   ]
  },
  {
   "cell_type": "code",
   "execution_count": null,
   "metadata": {
    "collapsed": false
   },
   "outputs": [],
   "source": [
    "def events():\n",
    "    event_re = re.compile('<td.*event=([0-9_]*).*Gentle Duplicate.*<\\/td>')\n",
    "    \n",
    "    r = requests.get('http://www.bridgewebs.com/cgi-bin/bwoi/bw.cgi?club=ruffclub&pid=display_past')\n",
    "    data = r.text\n",
    "    \n",
    "    for event in event_re.findall(data):\n",
    "        yield event\n",
    "    "
   ]
  },
  {
   "cell_type": "code",
   "execution_count": null,
   "metadata": {
    "collapsed": false
   },
   "outputs": [],
   "source": [
    "def results_for_event(event_id):\n",
    "    \n",
    "    r = requests.get('http://bridgewebs.com/cgi-bin/bwoi/bw.cgi?club=ruffclub&pid=xml_results_travs&amp;mod=Results&amp;ekey=%s' % event_id)\n",
    "    data = r.text\n",
    "    \n",
    "    header = '''<?xml version=\"1.0\" ?>\\n<root>\\nBridgewebs\\n<results>'''\n",
    "    footer = '''</results>\\n<xml>1</xml>\\n</root>'''\n",
    "    data = data[len(header):-len(footer)]\n",
    "\n",
    "    html_parser = html.parser.HTMLParser()\n",
    "    unescaped = html_parser.unescape(data)\n",
    "\n",
    "    soup = BeautifulSoup(unescaped, 'lxml')\n",
    "\n",
    "    board_results = soup.findAll('table', class_='brx_table')\n",
    "    \n",
    "    board_re = re.compile('Board No ([0-9]+) (None|E/W|N/S|Both) Vul Dealer (North|East|South|West)')\n",
    "\n",
    "    df_boards = pd.DataFrame({'event_id': [], 'board_id': [], 'vul': [], 'dealer': []})\n",
    "    df_results = pd.DataFrame({'event_id': [], 'board_id': [], 'ns': [], 'ew': [], 'contract': [], 'level': [], 'suit': [], 'doubled': [], 'declarer': [], 'result': [], 'tricks': []})\n",
    "\n",
    "    for results in board_results[0:]:\n",
    "        board = results.findAll('tr')[0].find('td').text\n",
    "        board_id, vul, dealer = board_re.match(board).groups()\n",
    "\n",
    "        df_boards = pd.concat([\n",
    "            df_boards,\n",
    "            pd.DataFrame({'event_id': [event_id], 'board_id': [board_id], 'vul': [vul], 'dealer': [dealer]})\n",
    "        ])\n",
    "\n",
    "        for result in results.findAll('tr')[3:]:\n",
    "\n",
    "            if 'id' in result.attrs:\n",
    "                elements = result.findAll('td')\n",
    "            \n",
    "                if len(elements) == 10:\n",
    "                    a = 1\n",
    "                else:\n",
    "                    a = 0\n",
    "\n",
    "                n_s = elements[0].find('div')['title'][len('Scorecard for '):]\n",
    "                e_w = elements[1].find('div')['title'][len('Scorecard for '):]\n",
    "                doubled = '*' in elements[2].text\n",
    "                contract = elements[2].text if not doubled else elements[2].text[:-1]\n",
    "                \n",
    "                level = contract[0]\n",
    "                suit = contract[1:]\n",
    "                \n",
    "                direction = elements[3].text\n",
    "                result = elements[4+a].text\n",
    "                \n",
    "                if contract == 'Passed Out' or contract == 'Adjusted':\n",
    "                    c = 0\n",
    "                    result = '='\n",
    "                elif contract[0] in map(str, range(10)):\n",
    "                    \n",
    "                    c = int(contract[0]) + 6\n",
    "\n",
    "                    if result and result[0] == '+':\n",
    "                        c += int(result[1])\n",
    "                    if result and result[0] == '-':\n",
    "                        c -= int(result[1])\n",
    "\n",
    "                df_results = pd.concat([\n",
    "                    df_results,\n",
    "                    pd.DataFrame({\n",
    "                        'event_id': [event_id], 'board_id': [board_id], 'ns': [n_s], 'ew': [e_w], \n",
    "                        'contract': [contract], 'level': [level], 'suit': [suit], 'doubled': [doubled], \n",
    "                        'declarer': [direction], 'result': [result], 'tricks': [c]\n",
    "                    })\n",
    "                ])\n",
    "\n",
    "    return df_results\n"
   ]
  },
  {
   "cell_type": "code",
   "execution_count": null,
   "metadata": {
    "collapsed": false
   },
   "outputs": [],
   "source": [
    "df = pd.concat([results_for_event(event_id) for event_id in list(events())[0:]])"
   ]
  },
  {
   "cell_type": "code",
   "execution_count": null,
   "metadata": {
    "collapsed": false
   },
   "outputs": [],
   "source": [
    "len(df)"
   ]
  },
  {
   "cell_type": "code",
   "execution_count": null,
   "metadata": {
    "collapsed": false
   },
   "outputs": [],
   "source": [
    "df2 = df[df.contract != 'Adjusted']\n",
    "df2 = df2[['contract', 'result', 'board_id']]\n",
    "\n",
    "table = pd.pivot_table(df2, values='board_id', index=['contract'], columns=['result'],  aggfunc='count')\n",
    "table.fillna('-')"
   ]
  },
  {
   "cell_type": "code",
   "execution_count": null,
   "metadata": {
    "collapsed": false
   },
   "outputs": [],
   "source": [
    "df2 = df[df.contract != 'Adjusted']\n",
    "df2 = df2[['suit', 'board_id']]\n",
    "\n",
    "df2.groupby('suit').count().plot(kind='bar')"
   ]
  },
  {
   "cell_type": "code",
   "execution_count": null,
   "metadata": {
    "collapsed": false
   },
   "outputs": [],
   "source": [
    "sns.heatmap(table)"
   ]
  }
 ],
 "metadata": {
  "kernelspec": {
   "display_name": "Python 3",
   "language": "python",
   "name": "python3"
  },
  "language_info": {
   "codemirror_mode": {
    "name": "ipython",
    "version": 3
   },
   "file_extension": ".py",
   "mimetype": "text/x-python",
   "name": "python",
   "nbconvert_exporter": "python",
   "pygments_lexer": "ipython3",
   "version": "3.5.2"
  }
 },
 "nbformat": 4,
 "nbformat_minor": 1
}
